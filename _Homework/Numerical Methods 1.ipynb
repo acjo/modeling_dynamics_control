{
 "cells": [
  {
   "cell_type": "code",
   "execution_count": 17,
   "metadata": {},
   "outputs": [],
   "source": [
    "import numpy as np\n",
    "from scipy.integrate import solve_bvp\n",
    "import matplotlib.pyplot as plt"
   ]
  },
  {
   "cell_type": "markdown",
   "metadata": {},
   "source": [
    "Given a functional\n",
    "$$J[y] = \\int_a^b L(x,y(x),y'(x))dx,$$\n",
    "we have determined that if $\\bar y$ is a minimum of $J$, then $\\bar y$ satisfies the Euler Lagrange (EL) equation. We also found that there are boundary conditions that $y_0$ must satsify. For problems of interest, we may not be able to solve the EL equation analytically. If this is the case, we may seek a numerical approximation of the solution. In this notebook, we describe how to numerically solve boundary value problems in Python.\n",
    "\n",
    "We begin by numerically solving the BVP\n",
    "$$ y''(x) = -y(x)$$\n",
    "\n",
    "subject to the boundary conditions $y(0) = 1$ and $y(\\pi/2) = 2$. We write the ODE as a first order system,\n",
    "\n",
    "$$\\begin{split}y_0'&= y_1\\\\y_1'&=-y_0.\\end{split}$$\n",
    "\n",
    "We define a function for this first order system below."
   ]
  },
  {
   "cell_type": "code",
   "execution_count": 18,
   "metadata": {},
   "outputs": [],
   "source": [
    "def ode_fun(x, y):\n",
    "    # y'' = -y\n",
    "    return np.vstack((y[1], -y[0]))"
   ]
  },
  {
   "cell_type": "markdown",
   "metadata": {},
   "source": [
    "Next, we write a function to give the boundary conditions. The input for this functon is ya and yb, where ya is the vector $(y_0(a),y_1(a))^T$ and yb is the vector $(y_0(b),y_1(b))^T$. That is, ya and yb are the values of our numerical approximation of the solution at $x = a$ and $x = b$ respectively where $x\\in[a,b]$. The function we write to provide the boundary conditions returns a vector that the solver will try to make be zero. So, if we want $y_0(a) = A$, then the fisrt component of the ouput vector should be $y_0(a)-A$. We now provide the boundary condition function. Recall that our boundary conditions are $y_0(0) = 1$ and $y_0(\\pi/2) = 2$."
   ]
  },
  {
   "cell_type": "code",
   "execution_count": 19,
   "metadata": {},
   "outputs": [],
   "source": [
    "def bc(ya, yb):\n",
    "    # y(0) = 1, y(pi/2) = 2\n",
    "    return np.array([ya[0]-1, yb[0]-2])"
   ]
  },
  {
   "cell_type": "markdown",
   "metadata": {},
   "source": [
    "We now call the solver to obtain our numerical approximation of the solution. In the block of code below, x is the grid on which we provide an initial guess to the solution, and y0 is the guess we provide on that grid. Since our ODE is two-dimensional, our initial guess y0 has 2 rows and the same number of columns as the length of x. Finally we call solve_bvp from scipy.integrate. The input is the ode function, the boundary condition function, the initial grid, and the solution guess on the initial grid."
   ]
  },
  {
   "cell_type": "code",
   "execution_count": 22,
   "metadata": {},
   "outputs": [],
   "source": [
    "x = np.linspace(0, np.pi/2, 5)\n",
    "y0 = np.zeros((2, x.size))\n",
    "\n",
    "res = solve_bvp(ode_fun, bc, x, y0)"
   ]
  },
  {
   "cell_type": "markdown",
   "metadata": {},
   "source": [
    "The solution to this BVP is $y(x) = \\cos(x)+2\\sin(x)$. In the code below, we compare the true solution against the numerical approximation."
   ]
  },
  {
   "cell_type": "code",
   "execution_count": 23,
   "metadata": {},
   "outputs": [
    {
     "data": {
      "image/png": "[encoded data removed]",
      "text/plain": [
       "<Figure size 432x288 with 1 Axes>"
      ]
     },
     "metadata": {
      "needs_background": "light"
     },
     "output_type": "display_data"
    }
   ],
   "source": [
    "x_plot = np.linspace(0, np.pi/2, 100)\n",
    "y_plot = res.sol(x_plot)[0]\n",
    "\n",
    "plt.plot(x_plot, y_plot, '-b', label='y')\n",
    "plt.plot(x_plot, np.cos(x_plot)+2*np.sin(x_plot),'--r',label='cos(x)+2sin(x)')\n",
    "plt.legend()\n",
    "plt.xlabel(\"x\")\n",
    "plt.ylabel(\"y\")\n",
    "plt.show()"
   ]
  },
  {
   "cell_type": "markdown",
   "metadata": {},
   "source": [
    "<hr>\n",
    "\n",
    "Last semester we did parameter reduction in ODEs. That is, we reduced the number of parameters that showed up in our system. What might happen in our solver if we have two parameters that can be reduced? As an example, consider the BVP \n",
    "$$\\alpha y''(x) = \\beta y(x)$$\n",
    "with free parameters $\\alpha$ and $\\beta$, and boundary conditions $y(0) = 0$, $y'(0) = 1$, and $y(\\pi) = 0$. Note that the solution is $y(x) = \\sin(x)$ and that any choice of $\\alpha$ and $\\beta$ satisfying $\\beta/\\alpha = -1$ would admit this solution. Without going into the details, we note that in approximating a solution to the BVP, we are using Newton's method to solve for the zeros of a large nonlinear system. However, the zeros of this system are not isolated because any $\\alpha$ and $\\beta$ correspond to a zero of the system as long as $\\alpha = -\\beta$.  \n",
    "\n",
    "Upon doing parameter reduction, we obtain the BVP \n",
    "$$y''(x) = \\gamma y(x),$$\n",
    "\n",
    "where $\\gamma = \\beta/\\alpha$, subject to the boundary conditions $y(0) = 0$, $y'(0) = 1$, and $y(\\pi) = 0$. \n",
    "\n",
    "<hr>\n",
    "Next we consider the BVP\n",
    "$$\n",
    "\\begin{split}\n",
    "y_0' &= y_1\\\\\n",
    "y_1' &= -\\alpha y_0\n",
    "\\end{split}\n",
    "$$\n",
    "\n",
    "with boundary conditions $y_0(0) = 1$ and $y_1(0) = 0$, and $y_0(1) = 0$. Note that there are three boundary conditions, but the ODE is only two-dimensional. Because we have a free parameter, $\\alpha$, we need to provide an additional boundary condition in order to choose a solution from the family of solutions that satisfy the ODE. Note that we do not expect the BVP to have a solution for every value of $\\alpha$. In the process of solving the BVP, we will obtain an approximation of $\\alpha$ for which the ODE has solution satisfying the three boundary conditions. \n",
    "\n",
    "\n",
    "\n",
    "We now return to the BVP\n",
    "$$\n",
    "\\begin{split}\n",
    "y_0' &= y_1\\\\\n",
    "y_1' &= -\\gamma y_0\n",
    "\\end{split}\n",
    "$$\n",
    "\n",
    "with boundary conditions $y_0(0) = 1$ and $y_1(0) = 0$, and $y_0(1) = 0$. We solve this with the code below. In ode_fun2, the input includes x, the independent variable, y, the dependent variable that is a function of x, and an array p of free parameters. The output is the ODE."
   ]
  },
  {
   "cell_type": "code",
   "execution_count": 24,
   "metadata": {},
   "outputs": [],
   "source": [
    "def ode_fun2(x, y, p):\n",
    "    alpha = p[0] # the free parameter\n",
    "    \n",
    "    # y_0' = y_1, y_1' = -alpha*y_0\n",
    "    return np.vstack((y[1], -alpha * y[0]))"
   ]
  },
  {
   "cell_type": "markdown",
   "metadata": {},
   "source": [
    "The boundary condition function must also include a third input for the array of free parameters."
   ]
  },
  {
   "cell_type": "code",
   "execution_count": 25,
   "metadata": {},
   "outputs": [],
   "source": [
    "def bc2(ya, yb, p):\n",
    "    alpha = p[0] # free parameter\n",
    "    \n",
    "    # y_0(0) = 1, y_1(0) = 0, y_0(1) = 0\n",
    "    return np.array([ya[0]-1, ya[1], yb[0]])"
   ]
  },
  {
   "cell_type": "markdown",
   "metadata": {},
   "source": [
    "Now we solve the BVP. Note that the code is very similar to what we used previously, but now we must include an initial guess for the free parameter $\\alpha$, which is written as p = [200]. "
   ]
  },
  {
   "cell_type": "code",
   "execution_count": 28,
   "metadata": {},
   "outputs": [],
   "source": [
    "x = np.linspace(0, 1, 5)\n",
    "y = np.ones((2, x.size))\n",
    "sol2 = solve_bvp(ode_fun2, bc2, x, y, p=[2])"
   ]
  },
  {
   "cell_type": "markdown",
   "metadata": {},
   "source": [
    "Now we plot the solution."
   ]
  },
  {
   "cell_type": "code",
   "execution_count": 29,
   "metadata": {},
   "outputs": [
    {
     "data": {
      "image/png": "[encoded data removed]",
      "text/plain": [
       "<Figure size 432x288 with 1 Axes>"
      ]
     },
     "metadata": {
      "needs_background": "light"
     },
     "output_type": "display_data"
    },
    {
     "name": "stdout",
     "output_type": "stream",
     "text": [
      "alpha = 2.4675472580944726\n"
     ]
    }
   ],
   "source": [
    "x_plot = np.linspace(0, 1, 100)\n",
    "y_plot = sol2.sol(x_plot)[0]\n",
    "plt.plot(x_plot, y_plot)\n",
    "plt.plot(x_plot,np.cos(np.pi*x_plot/2),'--r')\n",
    "plt.xlabel(\"x\")\n",
    "plt.ylabel(\"y\")\n",
    "plt.show()\n",
    "\n",
    "print('alpha = '+str(sol2.p[0]))"
   ]
  },
  {
   "cell_type": "markdown",
   "metadata": {},
   "source": [
    "<hr>\n",
    "<h2>Try this!</h2>\n",
    "\n",
    "Now provide a guess for the free parameter by setting p = [200] as input. Why did you get the solution that you got? "
   ]
  },
  {
   "cell_type": "markdown",
   "metadata": {},
   "source": [
    "<hr>\n",
    "<h1>Homework Assignment:</h1>\n",
    "\n",
    "Use solve_bvp to approximate the solution to the following BVP.\n",
    "\n",
    "$$\n",
    "\\begin{split}\n",
    "y_0'&= \\alpha y_1\\\\\n",
    "y_1'&= y_0^2+y_1^2+y_0/2-1\n",
    "\\end{split}\n",
    "$$\n",
    "subject to the boudnary conditions $y_0(0) = 1$, $y_1(0) = 0$, and $y_0(\\pi) = 0$. Specifically, find a solution that is decreasing and concave down."
   ]
  },
  {
   "cell_type": "code",
   "execution_count": 32,
   "metadata": {},
   "outputs": [
    {
     "data": {
      "image/png": "[encoded data removed]",
      "text/plain": [
       "<Figure size 900x600 with 1 Axes>"
      ]
     },
     "metadata": {
      "needs_background": "light"
     },
     "output_type": "display_data"
    }
   ],
   "source": [
    "def ode_fun3(t, y, p):\n",
    "    '''defines ode system up above\n",
    "    '''\n",
    "    α=p[0]\n",
    "    return np.array([α*y[1], y[0]**2 + y[1]**2 + y[0]/2 - 1])\n",
    "\n",
    "def bc3(ya, yb, p):\n",
    "    '''defines the boundary condition\n",
    "    '''\n",
    "    α = p[0]\n",
    "    return np.array([ya[0]-1, ya[1], yb[0]])\n",
    "\n",
    "#define soluttion variables\n",
    "x0 = np.linspace(0, np.pi, 10)\n",
    "y0 = np.zeros((2, x.size))\n",
    "#solve\n",
    "sol3 = solve_bvp(ode_fun3, bc3, x, y0, p=[-20])\n",
    "#plot\n",
    "x_plot = np.linspace(0, np.pi, 1000)\n",
    "y_plot = sol3.sol(x_plot)[0]\n",
    "fig = plt.figure()\n",
    "fig.set_dpi(150)\n",
    "ax = fig.add_subplot(111)\n",
    "ax.plot(x_plot, y_plot, 'r--', label='Numerical Sol')\n",
    "plt.show()"
   ]
  },
  {
   "cell_type": "code",
   "execution_count": null,
   "metadata": {},
   "outputs": [],
   "source": []
  }
 ],
 "metadata": {
  "kernelspec": {
   "display_name": "Python 3 (ipykernel)",
   "language": "python",
   "name": "python3"
  },
  "language_info": {
   "codemirror_mode": {
    "name": "ipython",
    "version": 3
   },
   "file_extension": ".py",
   "mimetype": "text/x-python",
   "name": "python",
   "nbconvert_exporter": "python",
   "pygments_lexer": "ipython3",
   "version": "3.8.12"
  }
 },
 "nbformat": 4,
 "nbformat_minor": 2
}
