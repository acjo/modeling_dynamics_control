{
 "cells": [
  {
   "cell_type": "markdown",
   "id": "8148dd22",
   "metadata": {},
   "source": [
    "# Caelan Osman\n",
    "## Math 436, Sec. 2\n",
    "## Oct 1, 2021"
   ]
  },
  {
   "cell_type": "code",
   "execution_count": 1,
   "id": "13324ac8",
   "metadata": {},
   "outputs": [],
   "source": [
    "import sympy as sy\n",
    "import numpy as np\n",
    "from scipy.linalg import expm\n",
    "from matplotlib import pyplot as plt"
   ]
  },
  {
   "cell_type": "markdown",
   "id": "720a8b3e",
   "metadata": {},
   "source": [
    "# Exercise 5.1\n",
    "\n",
    "we can use Duhamels' Principle to solve the system\n",
    "\\begin{align*}\n",
    "\\boldsymbol{x}'(t) &= A \\boldsymbol{x}(t)\\quad \\text{where}\\\\\n",
    "A &= \n",
    "\\begin{bmatrix}\n",
    "-1 & 1\\\\\n",
    "1 & 1\n",
    "\\end{bmatrix}\n",
    "\\quad \\text{and} \\quad\n",
    "\\boldsymbol{x}(0) = \n",
    "\\begin{bmatrix}\n",
    "2\\\\1\n",
    "\\end{bmatrix}\n",
    "\\end{align*}\n",
    "This is an autonomous homogenous system so our solution is given by the fundamental matrix soluiton. That is,\n",
    "\\begin{align*}\n",
    "\\boldsymbol{x}(t) &= e^{At}\\boldsymbol{x}_0 =\\Phi(t)\\boldsymbol{x}_0\n",
    "\\end{align*}\n",
    "we now use SymPy to solve analytically."
   ]
  },
  {
   "cell_type": "code",
   "execution_count": 2,
   "id": "59d7c93c",
   "metadata": {},
   "outputs": [],
   "source": [
    "t= sy.symbols('t')\n",
    "A = sy.Matrix([[-1, 1], \n",
    "               [1, 1]])\n",
    "\n",
    "x0_1 = sy.Matrix([2, 1])\n",
    "\n",
    "Φ = sy.simplify(sy.exp(A*t))\n",
    "x = sy.simplify(Φ*x0_1)\n",
    "#sy.latex(x)"
   ]
  },
  {
   "cell_type": "markdown",
   "id": "c951540b",
   "metadata": {},
   "source": [
    "Which gives the fundamental matrix as \n",
    "\\begin{align*}\n",
    "\\Phi(t) &= \\left[\\begin{matrix}\\frac{\\left(- \\sqrt{2} e^{2 \\sqrt{2} t} + 2 e^{2 \\sqrt{2} t} + \\sqrt{2} + 2\\right) e^{- \\sqrt{2} t}}{4} & \\frac{\\left(- \\sqrt{2} e^{2 \\sqrt{2} t} + 2 e^{2 \\sqrt{2} t} - 2 + \\sqrt{2}\\right) e^{- \\sqrt{2} t}}{4 \\left(-1 + \\sqrt{2}\\right)}\\\\ \\frac{\\sqrt{2} \\sinh{\\left(\\sqrt{2} t \\right)}}{2} & \\frac{\\left(- 2 e^{2 \\sqrt{2} t} + \\sqrt{2} e^{2 \\sqrt{2} t} - 10 + 7 \\sqrt{2}\\right) e^{- \\sqrt{2} t}}{4 \\left(-3 + 2 \\sqrt{2}\\right)}\\end{matrix}\\right]\n",
    "\\end{align*}\n",
    "\n",
    "Then our solution becomes\n",
    "\\begin{align*}\n",
    "\\boldsymbol{x}(t) &=\n",
    "\\left[\\begin{matrix}\\frac{\\left(- 6 e^{2 \\sqrt{2} t} + 5 \\sqrt{2} e^{2 \\sqrt{2} t} - 2 + 3 \\sqrt{2}\\right) e^{- \\sqrt{2} t}}{4 \\left(-1 + \\sqrt{2}\\right)}\\\\ \\frac{\\left(- \\sqrt{2} e^{2 \\sqrt{2} t} + 2 e^{2 \\sqrt{2} t} + 4 \\sqrt{2} \\left(3 - 2 \\sqrt{2}\\right) e^{\\sqrt{2} t} \\sinh{\\left(\\sqrt{2} t \\right)} - 7 \\sqrt{2} + 10\\right) e^{- \\sqrt{2} t}}{4 \\left(3 - 2 \\sqrt{2}\\right)}\\end{matrix}\\right]\n",
    "\\end{align*}\n",
    "Below is code to numerically check that our answer matches what it should."
   ]
  },
  {
   "cell_type": "code",
   "execution_count": 3,
   "id": "7e02134b",
   "metadata": {},
   "outputs": [
    {
     "data": {
      "image/png": "[encoded data removed]",
      "text/plain": [
       "<Figure size 432x288 with 1 Axes>"
      ]
     },
     "metadata": {
      "needs_background": "light"
     },
     "output_type": "display_data"
    }
   ],
   "source": [
    "#initial condition and system matrix\n",
    "A1 = np.array([[-1, 1], [1, 1]])\n",
    "x01 = np.array([2, 1])\n",
    "\n",
    "#numerical solution using expm\n",
    "sol1 = lambda t: expm(A1 * t) @ x0_1\n",
    "\n",
    "\n",
    "#sympy analytic solutions\n",
    "def x1a(t):\n",
    "    numerator = (-6*np.exp(2*t*np.sqrt(2)) + 5*np.sqrt(2)*np.exp(2*t*np.sqrt(2)) - 2 \n",
    "                 + 3*np.sqrt(2)) * np.exp(-np.sqrt(2)*t)\n",
    "    denominator = 4*(-1+ np.sqrt(2))\n",
    "    \n",
    "    \n",
    "    return numerator/denominator\n",
    "\n",
    "def x2a(t):\n",
    "    numerator = (-np.sqrt(2)*np.exp(2*np.sqrt(2)*t)+ 2*np.exp(2*np.sqrt(2)*t)\n",
    "                 +4*np.sqrt(2)*(3 - 2*np.sqrt(2))*np.exp(np.sqrt(2)*t)*\n",
    "                 np.sinh(np.sqrt(2)*t) - 7*np.sqrt(2)+10)*np.exp(-np.sqrt(2)*t)\n",
    "    denominator = 4*(3 - 2*np.sqrt(2)) \n",
    "   \n",
    "    return numerator/denominator\n",
    "\n",
    "    \n",
    "    \n",
    "\n",
    "#We now plot the phase field \n",
    "#numerical sol\n",
    "t_vals = np.linspace(0, 20, 200)\n",
    "outputN = np.array([sol1(t) for t in t_vals])\n",
    "#analytic\n",
    "ouputA = np.array([[x1a(t), x2a(t)] for t in t_vals])\n",
    "\n",
    "plt.plot( outputN[:, 0],outputN[:, 1],'k-', lw=6, label='numerical exponential matrix' )\n",
    "plt.plot(ouputA[:, 0], ouputA[:, 1], 'r-', lw=2, label='analytic solution')\n",
    "plt.legend(loc='best')\n",
    "plt.suptitle('Eyeball accurcay of sympys numerical solution vs. the analytic solution')\n",
    "plt.show()"
   ]
  },
  {
   "cell_type": "markdown",
   "id": "6afadd47",
   "metadata": {},
   "source": [
    "# Exercise 5.2\n",
    "\n",
    "We now find a solution to the same system but instead with $\\tilde{\\boldsymbol{x}}_0 = \\begin{bmatrix}2 & 0\\end{bmatrix}^T$. The fundamental matrix will stay the same and the solution will be given by $\\tilde{\\boldsymbol{x}} = \\Phi(t)\\tilde{\\boldsymbol{x}}$. We again use sympy to simplify everything. "
   ]
  },
  {
   "cell_type": "code",
   "execution_count": 4,
   "id": "b22c12bf",
   "metadata": {},
   "outputs": [],
   "source": [
    "x0_2 = sy.Matrix([2, 0])\n",
    "\n",
    "x_tilde = sy.simplify(Φ*x0_2)\n",
    "#sy.latex(x_tilde)"
   ]
  },
  {
   "cell_type": "markdown",
   "id": "952ee98e",
   "metadata": {},
   "source": [
    "Which gives our solution as \n",
    "\\begin{align*}\n",
    "\\tilde{\\boldsymbol{x}}(t) &=\n",
    "\\left[\\begin{matrix}\\frac{\\left(- \\sqrt{2} e^{2 \\sqrt{2} t} + 2 e^{2 \\sqrt{2} t} + \\sqrt{2} + 2\\right) e^{- \\sqrt{2} t}}{2}\\\\\\sqrt{2} \\sinh{\\left(\\sqrt{2} t \\right)}\\end{matrix}\\right]\n",
    "\\end{align*}\n",
    "We now find the 2 norm between $\\boldsymbol{x}(t)$ and $\\tilde{\\boldsymbol{x}}(t)$ also using sympy. That is we find $\\lVert\\boldsymbol{x}(t) - \\tilde{\\boldsymbol{x}}(t)\\rVert_2 = \\sqrt{\\langle(\\boldsymbol{x}(t) - \\tilde{\\boldsymbol{x}}(t)), (\\boldsymbol{x}(t) - \\tilde{\\boldsymbol{x}}(t)) \\rangle}$"
   ]
  },
  {
   "cell_type": "code",
   "execution_count": 5,
   "id": "f0ca24dd",
   "metadata": {},
   "outputs": [],
   "source": [
    "norm = sy.simplify(sy.sqrt((x-x_tilde).dot((x-x_tilde))))\n",
    "#sy.latex(sy.simplify(norm))"
   ]
  },
  {
   "cell_type": "markdown",
   "id": "44eec4a0",
   "metadata": {},
   "source": [
    "Which gives the norm as \n",
    "\\begin{align*}\n",
    "\\lVert\\boldsymbol{x}(t) - \\tilde{\\boldsymbol{x}}(t)\\rVert_2 &=\n",
    "\\frac{\\sqrt{\\left(\\left(58 - 41 \\sqrt{2}\\right) e^{4 \\sqrt{2} t} - 239 \\sqrt{2} + 338\\right) e^{- 2 \\sqrt{2} t}} \\left(7 + 5 \\sqrt{2}\\right)}{2}\n",
    "\\end{align*}"
   ]
  },
  {
   "cell_type": "markdown",
   "id": "a28d0c94",
   "metadata": {},
   "source": [
    "# Exercise 5.3\n",
    "\n",
    "We classify the type of equilibrium solution for the given matrices. This is done by finding the eigenvalues of the matrices. \n",
    "\n",
    "1. \n",
    "\n",
    "\\begin{align*} A &= \n",
    "    \\begin{bmatrix}\n",
    "    1 & 0\\\\4 & 2\n",
    "    \\end{bmatrix}\\\\\n",
    "    \\lambda_1, \\lambda_2 &= 2, 1\n",
    "    \\end{align*}\n",
    "Since the eigenvalues are both real and greater than zero therefore the equilibrium solution is unstable in all directions. I.e. this is an unstable node\n",
    "    \n",
    "2. \n",
    "\\begin{align*}\n",
    " A&=\n",
    "        \\begin{bmatrix}\n",
    "        1 & 1\\\\\n",
    "        -1 &1\n",
    "        \\end{bmatrix}\\\\\n",
    "        \\lambda &= 1 \\pm i\n",
    "    \\end{align*}\n",
    "Since the eigenvalues are complex with a positive real part then this is an unstable spiral. I.e. an unstable spiral node"
   ]
  },
  {
   "cell_type": "markdown",
   "id": "f3bfe135",
   "metadata": {},
   "source": [
    "# Exericse 5.4\n",
    "\n",
    "We do the exact same analysis as in the last problem. \n",
    "\n",
    "1.\n",
    "\\begin{align*}\n",
    "        A &= \n",
    "        \\begin{bmatrix}\n",
    "        1 & -5\\\\\n",
    "        1 & -1\n",
    "        \\end{bmatrix}\\\\\n",
    "        \\lambda &= \\pm 2i\n",
    "    \\end{align*}\n",
    "Because the eigenvalues are purely imaginary the solutions will be time periodic making the origin stable but not asymptotically stable. Solutions do not decay to 0. This is a center. \n",
    "\n",
    "\n",
    "2. \n",
    "\\begin{align*}\n",
    "A &= \n",
    "        \\begin{bmatrix}\n",
    "        1 & 1\\\\\n",
    "        0 & -1\n",
    "        \\end{bmatrix}\\\\\n",
    "        \\lambda &= \\pm 1\n",
    "    \\end{align*}\n",
    "    Because we have two real eigenvalues that switch signs this means that there is a stable direction in the eigenspace of $\\lambda_1 =-1$ but an unstable direction along th eigenspace of $\\lambda_2 =1$. i.e. this is a saddle point. "
   ]
  }
 ],
 "metadata": {
  "kernelspec": {
   "display_name": "Python 3 (ipykernel)",
   "language": "python",
   "name": "python3"
  },
  "language_info": {
   "codemirror_mode": {
    "name": "ipython",
    "version": 3
   },
   "file_extension": ".py",
   "mimetype": "text/x-python",
   "name": "python",
   "nbconvert_exporter": "python",
   "pygments_lexer": "ipython3",
   "version": "3.8.11"
  }
 },
 "nbformat": 4,
 "nbformat_minor": 5
}
